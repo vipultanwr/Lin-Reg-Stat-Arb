{
 "cells": [
  {
   "cell_type": "markdown",
   "metadata": {},
   "source": [
    "# Hypothesis: Linear regression coeficient of returns of two stocks can be used as hedge ratio for pairs trading\n",
    "\n",
    "Here, we get a long term hedge ratio using daily returns of two stocks and apply it for short term pairs (minute level) trading "
   ]
  },
  {
   "cell_type": "code",
   "execution_count": 10,
   "metadata": {},
   "outputs": [],
   "source": [
    "import pandas as pd\n",
    "import eikon as ek\n",
    "import matplotlib.pyplot as plt\n",
    "from sklearn.linear_model import HuberRegressor\n",
    "from sklearn.model_selection import train_test_split \n",
    "from sklearn.linear_model import LinearRegression\n",
    "from sklearn import metrics\n",
    "\n",
    "ek.set_app_key('1b68381d8f684b0183be832bab589097fd9942f2')\n"
   ]
  },
  {
   "cell_type": "markdown",
   "metadata": {},
   "source": [
    "# DayTrade Function \n",
    "It trades for a day with a given slope as hedge ratio for two symbols between a given time and returns the cumulative returns at the end of the day\n"
   ]
  },
  {
   "cell_type": "code",
   "execution_count": 11,
   "metadata": {},
   "outputs": [],
   "source": [
    "\n",
    "def DayTrade(sellsym, buysym,date,period,slope):\n",
    "    \n",
    "    stt_date = date + ' 3:46:00'\n",
    "    end_date = date + ' 10:30:00'\n",
    "\n",
    "    data = ek.get_timeseries(rics=[sellsym,buysym],fields=['CLOSE'],\n",
    "                                start_date=stt_date,\n",
    "                                end_date=end_date,\n",
    "                                interval='minute',corax='adjusted')\n",
    "\n",
    "    data_15 = pd.DataFrame(columns=data.columns)\n",
    "    data_15[sellsym] = data.resample(period).ohlc()[sellsym,'close']\n",
    "    data_15[buysym] = data.resample(period).ohlc()[buysym,'close']\n",
    "\n",
    "    datarets = data_15 - data_15.shift(1)\n",
    "    datarets.fillna(0)\n",
    "\n",
    "\n",
    "    buy_timestamps = []\n",
    "    sell_timestamps = []\n",
    "    buyexit_timestamps = []\n",
    "    sellexit_timestamps = []\n",
    "    for i,row in datarets.iterrows():\n",
    "        if(row[sellsym] > 0):\n",
    "            if(row[buysym]/row[sellsym] < (slope-1) ):\n",
    "                buy_timestamps.append(i)\n",
    "            elif((row[buysym]/row[sellsym] > (slope-0.5) ) &(row[buysym]/row[sellsym] < (slope) ) ):\n",
    "                buyexit_timestamps.append(i)\n",
    "\n",
    "    for i,row in datarets.iterrows():\n",
    "        if(row[sellsym] > 0):\n",
    "            if(row[buysym]/row[sellsym] > (slope+1) ):\n",
    "                sell_timestamps.append(i)\n",
    "            elif((row[buysym]/row[sellsym] < (slope+0.5) )&(row[buysym]/row[sellsym] > (slope) ) ):\n",
    "                sellexit_timestamps.append(i)\n",
    "                \n",
    "                \n",
    "    buys = pd.DataFrame(index=buy_timestamps)\n",
    "    buys['Buy'] = 1\n",
    "    sells = pd.DataFrame(index=sell_timestamps)\n",
    "    sells['Sell'] = -1\n",
    "    buyexits = pd.DataFrame(index=buyexit_timestamps)\n",
    "    buyexits['Buy'] = -1\n",
    "    sellexits = pd.DataFrame(index=sellexit_timestamps)\n",
    "    sellexits['Sell'] = 1\n",
    "\n",
    "    #Because of mirror marking of Buy/Sell... assigning the opposite signs \n",
    "    Buys = (buys.append(buyexits))\n",
    "    Sells = (sells.append(sellexits))\n",
    "    \n",
    "    \n",
    "    \n",
    "    data_15 = pd.concat([data_15.fillna(method='ffill'),Buys],axis=1,join='outer')\n",
    "    data_15 = pd.concat([data_15.fillna(method='ffill'),Sells],axis=1,join='outer')\n",
    "\n",
    "    data_15['Buy'][0] = 0\n",
    "    data_15['Sell'][0] = 0\n",
    "\n",
    "    data_15.Buy = data_15.Buy.fillna(method='pad')\n",
    "    data_15.Sell = data_15.Sell.fillna(method='pad')\n",
    "\n",
    "\n",
    "    data_15['Spread'] =   data_15[buysym] - data_15[sellsym]\n",
    "    data_15['nUnits'] =   data_15.Buy + data_15.Sell\n",
    "    data_15['nUnits'] =   data_15['nUnits'].apply(lambda x: min(max(x,-1),1)) * -1\n",
    "\n",
    "    data_15['SpreadRets'] = (data_15.Spread - data_15.Spread.shift(1))/data_15.Spread.shift(1)\n",
    "    data_15['port rets'] = data_15['SpreadRets'] * data_15['nUnits'].shift(0)\n",
    "    data_15['cum rets'] = data_15['port rets'].cumsum() \n",
    "\n",
    "    return data_15['cum rets'].iloc[-1], data_15['cum rets'].min(),data_15['Spread'][0]\n"
   ]
  },
  {
   "cell_type": "markdown",
   "metadata": {},
   "source": [
    "# Hedge Ratio Finder\n",
    "Finds the daily regression coefficient for a given pair of stocks. Also it needs the samples to be taken as input from past to be considered in the regression. Final outcome of this cell is a table which returns linreg coef, score and SSE for the regression model for samples from that particular day"
   ]
  },
  {
   "cell_type": "code",
   "execution_count": 22,
   "metadata": {
    "scrolled": false
   },
   "outputs": [],
   "source": [
    "\n",
    "S1 = 'ICBK.NS'\n",
    "S2 = 'AXBK.NS'\n",
    "\n",
    "time_series = ek.get_timeseries(rics=[S1,S2],fields=['CLOSE'],\n",
    "                            start_date='2020-08-01',\n",
    "                            end_date='2020-09-10',\n",
    "                            interval='daily',corax='adjusted')\n",
    "\n",
    "returns = (time_series  - time_series.shift(1))/time_series.shift(1)\n",
    "returns = returns.fillna(0)\n",
    "\n",
    "returns['Coef'] = 0.0\n",
    "Samples_Taken = 10\n",
    "returns['score'] = 0.0\n",
    "returns['SSE'] = 0.0\n",
    "\n",
    "for i in range(Samples_Taken,len(returns)):\n",
    "    X = returns[S1][i-Samples_Taken:i].values.reshape(-1,1)\n",
    "    y = returns[S2][i-Samples_Taken:i].values.reshape(-1,1)\n",
    "    huber = HuberRegressor()\n",
    "    huber.fit(X, y)\n",
    "    returns['Coef'][i] = huber.coef_\n",
    "    returns['score'][i] = huber.score(X, y)\n",
    "    returns['SSE'][i] = metrics.mean_squared_error(X, y)\n",
    "    \n",
    "returns = returns[Samples_Taken:]"
   ]
  },
  {
   "cell_type": "markdown",
   "metadata": {},
   "source": [
    "# Backtest on multiple days\n",
    "\n",
    "These lines get the daily returns dataframe and run the DayTrade function on each line and pushes the P&L report to an output file"
   ]
  },
  {
   "cell_type": "code",
   "execution_count": null,
   "metadata": {},
   "outputs": [],
   "source": [
    "import time\n",
    "\n",
    "returns['daytraderets'] = 0.000 \n",
    "returns['maxdrawdown'] = 0.000 \n",
    "returns['SpreadOpen'] = 0.000 \n",
    "\n",
    "\n",
    "for i,row in returns.iterrows():\n",
    "    try:\n",
    "        returns.loc[i,'daytraderets'],returns.loc[i,'maxdrawdown'],returns.loc[i,'SpreadOpen'] = DayTrade('ICBK.NS','AXBK.NS',str(i),'10min',row['Coef'])\n",
    "    except:\n",
    "        row['daytraderets'],row['maxdrawdown'],returns['SpreadOpen'] = 0.00 , 0.00 ,0.00\n",
    "    \n",
    "    returns.to_csv('NewDayTrade.csv')\n",
    "    print(i)\n",
    "    time.sleep(2)\n"
   ]
  },
  {
   "cell_type": "code",
   "execution_count": 31,
   "metadata": {},
   "outputs": [
    {
     "data": {
      "text/plain": [
       "[<matplotlib.lines.Line2D at 0x11e064280>]"
      ]
     },
     "execution_count": 31,
     "metadata": {},
     "output_type": "execute_result"
    },
    {
     "data": {
      "image/png": "[encoded data removed]",
      "text/plain": [
       "<Figure size 1440x576 with 1 Axes>"
      ]
     },
     "metadata": {
      "needs_background": "light"
     },
     "output_type": "display_data"
    }
   ],
   "source": [
    "fig = plt.figure(figsize=(20,8))\n",
    "ax = fig.gca()\n",
    "plt.grid()\n",
    "plt.xlabel(\"Date\")\n",
    "plt.ylabel(\"Equity\")\n",
    "plt.title(\"P&L Chart\")\n",
    "\n",
    "plt.plot((1+returns['daytraderets']).cumprod())"
   ]
  }
 ],
 "metadata": {
  "kernelspec": {
   "display_name": "Python 3",
   "language": "python",
   "name": "python3"
  },
  "language_info": {
   "codemirror_mode": {
    "name": "ipython",
    "version": 3
   },
   "file_extension": ".py",
   "mimetype": "text/x-python",
   "name": "python",
   "nbconvert_exporter": "python",
   "pygments_lexer": "ipython3",
   "version": "3.8.0"
  }
 },
 "nbformat": 4,
 "nbformat_minor": 4
}
